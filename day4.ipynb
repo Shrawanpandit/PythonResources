{
 "cells": [
  {
   "cell_type": "code",
   "execution_count": 2,
   "id": "a8b0dd5c",
   "metadata": {},
   "outputs": [
    {
     "name": "stdout",
     "output_type": "stream",
     "text": [
      "Requirement already satisfied: matplotlib in c:\\users\\user\\appdata\\local\\programs\\python\\python313\\lib\\site-packages (3.10.3)\n",
      "Requirement already satisfied: contourpy>=1.0.1 in c:\\users\\user\\appdata\\local\\programs\\python\\python313\\lib\\site-packages (from matplotlib) (1.3.2)\n",
      "Requirement already satisfied: cycler>=0.10 in c:\\users\\user\\appdata\\local\\programs\\python\\python313\\lib\\site-packages (from matplotlib) (0.12.1)\n",
      "Requirement already satisfied: fonttools>=4.22.0 in c:\\users\\user\\appdata\\local\\programs\\python\\python313\\lib\\site-packages (from matplotlib) (4.58.4)\n",
      "Requirement already satisfied: kiwisolver>=1.3.1 in c:\\users\\user\\appdata\\local\\programs\\python\\python313\\lib\\site-packages (from matplotlib) (1.4.8)\n",
      "Requirement already satisfied: numpy>=1.23 in c:\\users\\user\\appdata\\local\\programs\\python\\python313\\lib\\site-packages (from matplotlib) (2.3.0)\n",
      "Requirement already satisfied: packaging>=20.0 in c:\\users\\user\\appdata\\local\\programs\\python\\python313\\lib\\site-packages (from matplotlib) (25.0)\n",
      "Requirement already satisfied: pillow>=8 in c:\\users\\user\\appdata\\local\\programs\\python\\python313\\lib\\site-packages (from matplotlib) (11.2.1)\n",
      "Requirement already satisfied: pyparsing>=2.3.1 in c:\\users\\user\\appdata\\local\\programs\\python\\python313\\lib\\site-packages (from matplotlib) (3.2.3)\n",
      "Requirement already satisfied: python-dateutil>=2.7 in c:\\users\\user\\appdata\\roaming\\python\\python313\\site-packages (from matplotlib) (2.9.0.post0)\n",
      "Requirement already satisfied: six>=1.5 in c:\\users\\user\\appdata\\roaming\\python\\python313\\site-packages (from python-dateutil>=2.7->matplotlib) (1.17.0)\n",
      "Note: you may need to restart the kernel to use updated packages.\n"
     ]
    },
    {
     "name": "stderr",
     "output_type": "stream",
     "text": [
      "\n",
      "[notice] A new release of pip is available: 25.0.1 -> 25.1.1\n",
      "[notice] To update, run: python.exe -m pip install --upgrade pip\n"
     ]
    }
   ],
   "source": [
    "%pip install matplotlib\n"
   ]
  },
  {
   "cell_type": "code",
   "execution_count": 3,
   "id": "9643e5f9",
   "metadata": {},
   "outputs": [
    {
     "name": "stdout",
     "output_type": "stream",
     "text": [
      "Requirement already satisfied: scikit-image in c:\\users\\user\\appdata\\local\\programs\\python\\python313\\lib\\site-packages (0.25.2)\n",
      "Requirement already satisfied: numpy>=1.24 in c:\\users\\user\\appdata\\local\\programs\\python\\python313\\lib\\site-packages (from scikit-image) (2.3.0)\n",
      "Requirement already satisfied: scipy>=1.11.4 in c:\\users\\user\\appdata\\local\\programs\\python\\python313\\lib\\site-packages (from scikit-image) (1.15.3)\n",
      "Requirement already satisfied: networkx>=3.0 in c:\\users\\user\\appdata\\local\\programs\\python\\python313\\lib\\site-packages (from scikit-image) (3.5)\n",
      "Requirement already satisfied: pillow>=10.1 in c:\\users\\user\\appdata\\local\\programs\\python\\python313\\lib\\site-packages (from scikit-image) (11.2.1)\n",
      "Requirement already satisfied: imageio!=2.35.0,>=2.33 in c:\\users\\user\\appdata\\local\\programs\\python\\python313\\lib\\site-packages (from scikit-image) (2.37.0)\n",
      "Requirement already satisfied: tifffile>=2022.8.12 in c:\\users\\user\\appdata\\local\\programs\\python\\python313\\lib\\site-packages (from scikit-image) (2025.6.11)\n",
      "Requirement already satisfied: packaging>=21 in c:\\users\\user\\appdata\\local\\programs\\python\\python313\\lib\\site-packages (from scikit-image) (25.0)\n",
      "Requirement already satisfied: lazy-loader>=0.4 in c:\\users\\user\\appdata\\local\\programs\\python\\python313\\lib\\site-packages (from scikit-image) (0.4)\n",
      "Note: you may need to restart the kernel to use updated packages.\n"
     ]
    },
    {
     "name": "stderr",
     "output_type": "stream",
     "text": [
      "\n",
      "[notice] A new release of pip is available: 25.0.1 -> 25.1.1\n",
      "[notice] To update, run: python.exe -m pip install --upgrade pip\n"
     ]
    }
   ],
   "source": [
    "%pip install scikit-image"
   ]
  },
  {
   "cell_type": "code",
   "execution_count": 6,
   "id": "2db6a6e3",
   "metadata": {},
   "outputs": [
    {
     "data": {
      "text/plain": [
       "array([ True,  True, False, False, False])"
      ]
     },
     "execution_count": 6,
     "metadata": {},
     "output_type": "execute_result"
    }
   ],
   "source": [
    "import numpy as np\n",
    "\n",
    "z = np.array([1, 2, 3, 4, 5])\n",
    "z < 3"
   ]
  },
  {
   "cell_type": "code",
   "execution_count": 8,
   "id": "077bf84b",
   "metadata": {},
   "outputs": [
    {
     "name": "stdout",
     "output_type": "stream",
     "text": [
      "[1 2]\n"
     ]
    }
   ],
   "source": [
    "#print only the values which shows true\n",
    "print(z[z < 3])"
   ]
  },
  {
   "cell_type": "code",
   "execution_count": 10,
   "id": "11b6a1f2",
   "metadata": {},
   "outputs": [
    {
     "name": "stdout",
     "output_type": "stream",
     "text": [
      "[5 7 9]\n"
     ]
    }
   ],
   "source": [
    "#add two arrays\n",
    "x = np.array([1, 2, 3])\n",
    "y = np.array([4, 5, 6])\n",
    "print(x + y)"
   ]
  },
  {
   "cell_type": "code",
   "execution_count": 14,
   "id": "16cd6268",
   "metadata": {},
   "outputs": [
    {
     "data": {
      "text/plain": [
       "array([  1,   8,  27,  64, 125])"
      ]
     },
     "execution_count": 14,
     "metadata": {},
     "output_type": "execute_result"
    }
   ],
   "source": [
    "arr1= np.array([1,2,3,4,5])\n",
    "arr2= np.array([6,7,8,9,10])\n",
    "arr1 + arr2\n",
    "z=np.power(arr1,3)\n",
    "z"
   ]
  },
  {
   "cell_type": "code",
   "execution_count": 16,
   "id": "678f3af5",
   "metadata": {},
   "outputs": [
    {
     "data": {
      "text/plain": [
       "array([31, 32, 33, 34, 35])"
      ]
     },
     "execution_count": 16,
     "metadata": {},
     "output_type": "execute_result"
    }
   ],
   "source": [
    "arr1 + 30"
   ]
  },
  {
   "cell_type": "code",
   "execution_count": 18,
   "id": "62092903",
   "metadata": {},
   "outputs": [
    {
     "data": {
      "text/plain": [
       "np.int64(130)"
      ]
     },
     "execution_count": 18,
     "metadata": {},
     "output_type": "execute_result"
    }
   ],
   "source": [
    "arr1 @ arr2"
   ]
  },
  {
   "cell_type": "code",
   "execution_count": 20,
   "id": "845c661f",
   "metadata": {},
   "outputs": [
    {
     "data": {
      "text/plain": [
       "array([[ 1,  2],\n",
       "       [ 3,  4],\n",
       "       [ 5,  6],\n",
       "       [ 7,  8],\n",
       "       [ 9, 10],\n",
       "       [11, 12]])"
      ]
     },
     "execution_count": 20,
     "metadata": {},
     "output_type": "execute_result"
    }
   ],
   "source": [
    "np.arange(1,13).reshape(6,2)"
   ]
  },
  {
   "cell_type": "code",
   "execution_count": 22,
   "id": "d2608958",
   "metadata": {},
   "outputs": [
    {
     "data": {
      "text/plain": [
       "1"
      ]
     },
     "execution_count": 22,
     "metadata": {},
     "output_type": "execute_result"
    }
   ],
   "source": [
    "#find dimension size\n",
    "a1= np.arange(10)\n",
    "a2= np.arange(12).reshape(2,6)\n",
    "a3= np.arange(8).reshape(2,2,2,)\n",
    "np.ndim(a1)# 2 blocks of 2 row and 2 column"
   ]
  },
  {
   "cell_type": "code",
   "execution_count": 24,
   "id": "a68a0b16",
   "metadata": {},
   "outputs": [
    {
     "data": {
      "text/plain": [
       "array([[[0, 1],\n",
       "        [2, 3]],\n",
       "\n",
       "       [[4, 5],\n",
       "        [6, 7]]])"
      ]
     },
     "execution_count": 24,
     "metadata": {},
     "output_type": "execute_result"
    }
   ],
   "source": [
    "a3.size\n",
    "a3"
   ]
  },
  {
   "cell_type": "code",
   "execution_count": 27,
   "id": "29c6467c",
   "metadata": {},
   "outputs": [
    {
     "name": "stdout",
     "output_type": "stream",
     "text": [
      "[1. 2. 3. 4. 5.]\n"
     ]
    }
   ],
   "source": [
    "#DATA TYPES\n",
    "# FLOAT BOOL COMPLEX\n",
    "\n",
    "arr=np.array([1,2,3,4,5], dtype=float)\n",
    "print (arr)"
   ]
  },
  {
   "cell_type": "code",
   "execution_count": 29,
   "id": "7ad5e46f",
   "metadata": {},
   "outputs": [
    {
     "name": "stdout",
     "output_type": "stream",
     "text": [
      "[[[ 1  2  3]\n",
      "  [ 4  5  6]]\n",
      "\n",
      " [[ 7  8  9]\n",
      "  [10 11 12]]]\n"
     ]
    }
   ],
   "source": [
    "#3D ARRAY\n",
    "arr3 = np.array([[[1, 2,3], [ 4,5,6]], [[7,8,9], [10,11,12]]])\n",
    "print(arr3)"
   ]
  },
  {
   "cell_type": "code",
   "execution_count": 31,
   "id": "48b77ba9",
   "metadata": {},
   "outputs": [
    {
     "data": {
      "text/plain": [
       "array([[[9, 9, 9, 9],\n",
       "        [9, 9, 9, 9],\n",
       "        [9, 9, 9, 9]],\n",
       "\n",
       "       [[9, 9, 9, 9],\n",
       "        [9, 9, 9, 9],\n",
       "        [9, 9, 9, 9]]])"
      ]
     },
     "execution_count": 31,
     "metadata": {},
     "output_type": "execute_result"
    }
   ],
   "source": [
    "a=np.full((2,3,4), 9)\n",
    "a"
   ]
  },
  {
   "cell_type": "code",
   "execution_count": 34,
   "id": "173950e6",
   "metadata": {},
   "outputs": [],
   "source": [
    "#BOARDCASTING \n",
    "\n",
    "matrix=np.array([[1,2,3],\n",
    "                [4,5,6]])\n",
    "\n"
   ]
  },
  {
   "cell_type": "code",
   "execution_count": null,
   "id": "7984fa64",
   "metadata": {},
   "outputs": [
    {
     "data": {
      "text/plain": [
       "array([[11, 22, 33],\n",
       "       [14, 25, 36]])"
      ]
     },
     "execution_count": 36,
     "metadata": {},
     "output_type": "execute_result"
    }
   ],
   "source": [
    "# add a scalar to each row\n",
    "\n",
    "boardcasting= matrix + np.array([10,20,30]) #add corresponding element of the array to each row\n",
    "boardcasting"
   ]
  },
  {
   "cell_type": "code",
   "execution_count": 38,
   "id": "2671d591",
   "metadata": {},
   "outputs": [
    {
     "data": {
      "text/plain": [
       "array([[ 3,  6,  9],\n",
       "       [12, 15, 18]])"
      ]
     },
     "execution_count": 38,
     "metadata": {},
     "output_type": "execute_result"
    }
   ],
   "source": [
    "broadcasting_column =matrix * 3\n",
    "broadcasting_column"
   ]
  },
  {
   "cell_type": "code",
   "execution_count": 47,
   "id": "b23219f1",
   "metadata": {},
   "outputs": [],
   "source": [
    "# Use a square submatrix (2x2) from 'matrix'\n",
    "square_matrix = np.array([[1,2],[3,4]])\n",
    "matrix_determinant = np.linalg.det(square_matrix)\n",
    "matrix_inverse = np.linalg.inv(square_matrix)"
   ]
  },
  {
   "cell_type": "code",
   "execution_count": 50,
   "id": "945d71e3",
   "metadata": {},
   "outputs": [
    {
     "data": {
      "text/plain": [
       "array([ 2.71828183,  7.3890561 , 20.08553692])"
      ]
     },
     "execution_count": 50,
     "metadata": {},
     "output_type": "execute_result"
    }
   ],
   "source": [
    "arr1 = np.array([1, 2, 3])\n",
    "arr2 = np.array([4, 5, 6])\n",
    "exponential_values = np.exp(arr1)\n",
    "exponential_values"
   ]
  },
  {
   "cell_type": "code",
   "execution_count": 52,
   "id": "b9b79fb5",
   "metadata": {},
   "outputs": [
    {
     "name": "stdout",
     "output_type": "stream",
     "text": [
      "[[ 1  2  3  4  5  6]\n",
      " [ 7  8  9 10 11 12]\n",
      " [13 14 15 16 17 18]\n",
      " [19 20 21 22 23 24]]\n"
     ]
    }
   ],
   "source": [
    "a= np.array([[1, 2, 3, 4, 5,6],\n",
    "            [7, 8, 9, 10, 11,12],\n",
    "            [13, 14, 15, 16, 17,18],\n",
    "            [19, 20, 21, 22, 23,24]])\n",
    "np.save(\"myarray.npy\",a)\n",
    "a= np.load(\"myarray.npy\")\n",
    "print(a)"
   ]
  },
  {
   "cell_type": "code",
   "execution_count": 54,
   "id": "326fb0cc",
   "metadata": {},
   "outputs": [
    {
     "name": "stdout",
     "output_type": "stream",
     "text": [
      "Requirement already satisfied: requests in c:\\users\\user\\appdata\\local\\programs\\python\\python313\\lib\\site-packages (2.32.3)\n",
      "Requirement already satisfied: charset-normalizer<4,>=2 in c:\\users\\user\\appdata\\local\\programs\\python\\python313\\lib\\site-packages (from requests) (3.4.1)\n",
      "Requirement already satisfied: idna<4,>=2.5 in c:\\users\\user\\appdata\\local\\programs\\python\\python313\\lib\\site-packages (from requests) (3.10)\n",
      "Requirement already satisfied: urllib3<3,>=1.21.1 in c:\\users\\user\\appdata\\local\\programs\\python\\python313\\lib\\site-packages (from requests) (2.4.0)\n",
      "Requirement already satisfied: certifi>=2017.4.17 in c:\\users\\user\\appdata\\local\\programs\\python\\python313\\lib\\site-packages (from requests) (2025.4.26)\n",
      "Note: you may need to restart the kernel to use updated packages.\n"
     ]
    },
    {
     "name": "stderr",
     "output_type": "stream",
     "text": [
      "\n",
      "[notice] A new release of pip is available: 25.0.1 -> 25.1.1\n",
      "[notice] To update, run: python.exe -m pip install --upgrade pip\n"
     ]
    }
   ],
   "source": [
    "#WEATHER APP USING API(APPLICATION PROGRAMMING INTERFACE)\n",
    "%pip install requests"
   ]
  },
  {
   "cell_type": "code",
   "execution_count": 55,
   "id": "fbf1e7b3",
   "metadata": {},
   "outputs": [],
   "source": [
    "#https://api.openweathermap.org/data/2.5/weather?q={city}&appid={API_KEY}\n",
    "\n",
    "#API_KEY=\"7c9b14120aa59d2f604787021bfaf159\"\n",
    "\n"
   ]
  },
  {
   "cell_type": "code",
   "execution_count": 58,
   "id": "427a8589",
   "metadata": {},
   "outputs": [
    {
     "name": "stdout",
     "output_type": "stream",
     "text": [
      "\n",
      "---Weather Information---\n",
      "\n",
      "---Weather Information---\n",
      "City: Argentina\n",
      "Temperature: 6.27C\n",
      "Weather: Clear Sky\n",
      "Humidity: 47%\n",
      "Wind Speed: 3.51m/s\n",
      "\n",
      "---Weather Information---\n",
      "\n",
      "---Weather Information---\n",
      "City: Kathmandu\n",
      "Temperature: 25.55C\n",
      "Weather: Overcast Clouds\n",
      "Humidity: 78%\n",
      "Wind Speed: 1.77m/s\n",
      "\n",
      "---Weather Information---\n",
      "\n",
      "---Weather Information---\n",
      "City: London\n",
      "Temperature: 24.74C\n",
      "Weather: Overcast Clouds\n",
      "Humidity: 53%\n",
      "Wind Speed: 3.88m/s\n",
      "\n",
      "---Weather Information---\n",
      "City not found\n",
      "\n",
      "---Weather Information---\n",
      "City not found\n",
      "\n",
      "---Weather Information---\n"
     ]
    }
   ],
   "source": [
    "import requests\n",
    " #API SETUP\n",
    "API_KEY= \"7c9b14120aa59d2f604787021bfaf159\"\n",
    "BASE_URL = \"http://api.openweathermap.org/data/2.5/weather\"\n",
    "\n",
    "#GET WEATHER DATA\n",
    "def get_weather(city):\n",
    "    try:\n",
    "        url = f\"{BASE_URL}?q={city}&appid={API_KEY}&units=metric\"\n",
    "        response = requests.get(url)\n",
    "        data= response.json()\n",
    "        if response.status_code == 200:\n",
    "            data=response.json()\n",
    "            weather = {\n",
    "                \"City\": data[\"name\"],\n",
    "                \"Temperature\": f\"{data['main']['temp']}C\",\n",
    "                \"Weather\": data[\"weather\"][0]['description'].title(),\n",
    "                \"Humidity\": f\"{data['main']['humidity']}%\", \n",
    "                \"Wind Speed\": f\"{data['wind']['speed']}m/s\"\n",
    "            }\n",
    "            return weather\n",
    "        elif response.status_code == 404:\n",
    "            print(\"City not found\")\n",
    "        else:\n",
    "            print(\"An error occured. Status Code: \", response.status.code)\n",
    "    except Exception as e:\n",
    "        print(\"error Occured: \", e)\n",
    "    return None\n",
    "\n",
    "## Display the weather information\n",
    "def display_weather(weather):\n",
    "    print(\"\\n---Weather Information---\")\n",
    "    for key,value in weather.items():\n",
    "        print(f\"{key}: {value}\")\n",
    "\n",
    "## Main Program Loop\n",
    "while True:\n",
    "    print(\"\\n---Weather Information---\")\n",
    "    city = input(\"Enter a city name (or 'q' to quit): \").strip()\n",
    "    if city.lower() == 'q':\n",
    "        break\n",
    "    weather = get_weather(city)\n",
    "    if weather:\n",
    "        display_weather(weather)\n",
    "\n"
   ]
  },
  {
   "cell_type": "code",
   "execution_count": 59,
   "id": "f9b991c9",
   "metadata": {},
   "outputs": [
    {
     "name": "stdout",
     "output_type": "stream",
     "text": [
      "Collecting pandas\n",
      "  Downloading pandas-2.3.0-cp313-cp313-win_amd64.whl.metadata (19 kB)\n",
      "Requirement already satisfied: numpy>=1.26.0 in c:\\users\\user\\appdata\\local\\programs\\python\\python313\\lib\\site-packages (from pandas) (2.3.0)\n",
      "Requirement already satisfied: python-dateutil>=2.8.2 in c:\\users\\user\\appdata\\roaming\\python\\python313\\site-packages (from pandas) (2.9.0.post0)\n",
      "Collecting pytz>=2020.1 (from pandas)\n",
      "  Downloading pytz-2025.2-py2.py3-none-any.whl.metadata (22 kB)\n",
      "Collecting tzdata>=2022.7 (from pandas)\n",
      "  Downloading tzdata-2025.2-py2.py3-none-any.whl.metadata (1.4 kB)\n",
      "Requirement already satisfied: six>=1.5 in c:\\users\\user\\appdata\\roaming\\python\\python313\\site-packages (from python-dateutil>=2.8.2->pandas) (1.17.0)\n",
      "Downloading pandas-2.3.0-cp313-cp313-win_amd64.whl (11.0 MB)\n",
      "   ---------------------------------------- 0.0/11.0 MB ? eta -:--:--\n",
      "   ---------------------------------------- 0.0/11.0 MB ? eta -:--:--\n",
      "    --------------------------------------- 0.3/11.0 MB ? eta -:--:--\n",
      "   - -------------------------------------- 0.5/11.0 MB 1.1 MB/s eta 0:00:10\n",
      "   -- ------------------------------------- 0.8/11.0 MB 1.2 MB/s eta 0:00:09\n",
      "   ---- ----------------------------------- 1.3/11.0 MB 1.5 MB/s eta 0:00:07\n",
      "   ------ --------------------------------- 1.8/11.0 MB 1.6 MB/s eta 0:00:06\n",
      "   -------- ------------------------------- 2.4/11.0 MB 1.7 MB/s eta 0:00:05\n",
      "   ---------- ----------------------------- 2.9/11.0 MB 1.9 MB/s eta 0:00:05\n",
      "   ------------ --------------------------- 3.4/11.0 MB 2.0 MB/s eta 0:00:04\n",
      "   --------------- ------------------------ 4.2/11.0 MB 2.1 MB/s eta 0:00:04\n",
      "   ----------------- ---------------------- 4.7/11.0 MB 2.2 MB/s eta 0:00:03\n",
      "   ------------------- -------------------- 5.2/11.0 MB 2.2 MB/s eta 0:00:03\n",
      "   --------------------- ------------------ 6.0/11.0 MB 2.3 MB/s eta 0:00:03\n",
      "   ------------------------ --------------- 6.8/11.0 MB 2.4 MB/s eta 0:00:02\n",
      "   ----------------------------- ---------- 8.1/11.0 MB 2.7 MB/s eta 0:00:02\n",
      "   -------------------------------- ------- 8.9/11.0 MB 2.8 MB/s eta 0:00:01\n",
      "   -------------------------------------- - 10.5/11.0 MB 3.1 MB/s eta 0:00:01\n",
      "   ---------------------------------------- 11.0/11.0 MB 3.1 MB/s eta 0:00:00\n",
      "Downloading pytz-2025.2-py2.py3-none-any.whl (509 kB)\n",
      "Downloading tzdata-2025.2-py2.py3-none-any.whl (347 kB)\n",
      "Installing collected packages: pytz, tzdata, pandas\n",
      "Successfully installed pandas-2.3.0 pytz-2025.2 tzdata-2025.2\n",
      "Note: you may need to restart the kernel to use updated packages.\n"
     ]
    },
    {
     "name": "stderr",
     "output_type": "stream",
     "text": [
      "\n",
      "[notice] A new release of pip is available: 25.0.1 -> 25.1.1\n",
      "[notice] To update, run: python.exe -m pip install --upgrade pip\n"
     ]
    }
   ],
   "source": [
    "#INTRODUCTIO TO PANDAS\n",
    "%pip install pandas"
   ]
  }
 ],
 "metadata": {
  "kernelspec": {
   "display_name": "Python 3",
   "language": "python",
   "name": "python3"
  },
  "language_info": {
   "codemirror_mode": {
    "name": "ipython",
    "version": 3
   },
   "file_extension": ".py",
   "mimetype": "text/x-python",
   "name": "python",
   "nbconvert_exporter": "python",
   "pygments_lexer": "ipython3",
   "version": "3.13.1"
  }
 },
 "nbformat": 4,
 "nbformat_minor": 5
}
