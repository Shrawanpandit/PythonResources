{
 "cells": [
  {
   "cell_type": "code",
   "execution_count": null,
   "id": "fdcbf742",
   "metadata": {},
   "outputs": [
    {
     "name": "stdout",
     "output_type": "stream",
     "text": [
      "Hello World\n"
     ]
    }
   ],
   "source": [
    "print(\"Hello World\")"
   ]
  },
  {
   "cell_type": "code",
   "execution_count": 5,
   "id": "d2088f0b",
   "metadata": {},
   "outputs": [
    {
     "name": "stdout",
     "output_type": "stream",
     "text": [
      "Hello World\n",
      "Hello World\n",
      "Hello World\n",
      "Hello World\n",
      "Hello World\n",
      "Hello World\n",
      "Hello World\n",
      "Hello World\n",
      "Hello World\n",
      "Hello World\n",
      "Hello World\n",
      "Hello World\n",
      "Hello World\n",
      "Hello World\n",
      "Hello World\n",
      "Hello World\n",
      "Hello World\n",
      "Hello World\n",
      "Hello World\n",
      "Hello World\n",
      "Hello World\n",
      "Hello World\n",
      "Hello World\n",
      "Hello World\n",
      "Hello World\n",
      "Hello World\n",
      "Hello World\n",
      "Hello World\n",
      "Hello World\n",
      "Hello World\n",
      "Hello World\n",
      "Hello World\n",
      "Hello World\n",
      "Hello World\n",
      "Hello World\n",
      "Hello World\n",
      "Hello World\n",
      "Hello World\n",
      "Hello World\n",
      "Hello World\n",
      "Hello World\n",
      "Hello World\n",
      "Hello World\n",
      "Hello World\n",
      "Hello World\n",
      "Hello World\n",
      "Hello World\n",
      "Hello World\n",
      "Hello World\n",
      "Hello World\n",
      "Hello World\n",
      "Hello World\n",
      "Hello World\n",
      "Hello World\n",
      "Hello World\n",
      "Hello World\n",
      "Hello World\n",
      "Hello World\n",
      "Hello World\n",
      "Hello World\n",
      "Hello World\n",
      "Hello World\n",
      "Hello World\n",
      "Hello World\n",
      "Hello World\n",
      "Hello World\n",
      "Hello World\n",
      "Hello World\n",
      "Hello World\n",
      "Hello World\n",
      "Hello World\n",
      "Hello World\n",
      "Hello World\n",
      "Hello World\n",
      "Hello World\n",
      "Hello World\n",
      "Hello World\n",
      "Hello World\n",
      "Hello World\n",
      "Hello World\n",
      "Hello World\n",
      "Hello World\n",
      "Hello World\n",
      "Hello World\n",
      "Hello World\n",
      "Hello World\n",
      "Hello World\n",
      "Hello World\n",
      "Hello World\n",
      "Hello World\n",
      "Hello World\n",
      "Hello World\n",
      "Hello World\n",
      "Hello World\n",
      "Hello World\n",
      "Hello World\n",
      "Hello World\n",
      "Hello World\n",
      "Hello World\n",
      "Hello World\n"
     ]
    }
   ],
   "source": [
    "for i in range(100):\n",
    "    \n",
    "    print(\"Hello World\")"
   ]
  },
  {
   "cell_type": "code",
   "execution_count": 7,
   "id": "f8417e8b",
   "metadata": {},
   "outputs": [
    {
     "name": "stdout",
     "output_type": "stream",
     "text": [
      "4\n"
     ]
    }
   ],
   "source": [
    "print(2+2)"
   ]
  },
  {
   "cell_type": "code",
   "execution_count": 9,
   "id": "7e1c1d3d",
   "metadata": {},
   "outputs": [
    {
     "name": "stdout",
     "output_type": "stream",
     "text": [
      "22\n"
     ]
    }
   ],
   "source": [
    "print(\"2\"+\"2\")\t"
   ]
  },
  {
   "cell_type": "code",
   "execution_count": 11,
   "id": "251bd251",
   "metadata": {},
   "outputs": [
    {
     "name": "stdout",
     "output_type": "stream",
     "text": [
      "4.1\n"
     ]
    }
   ],
   "source": [
    "print(2.1+2)"
   ]
  },
  {
   "cell_type": "code",
   "execution_count": 13,
   "id": "8bbce121",
   "metadata": {},
   "outputs": [
    {
     "name": "stdout",
     "output_type": "stream",
     "text": [
      "10\n"
     ]
    }
   ],
   "source": [
    "a=10\n",
    "print(a)"
   ]
  },
  {
   "cell_type": "code",
   "execution_count": 15,
   "id": "64086680",
   "metadata": {},
   "outputs": [
    {
     "data": {
      "text/plain": [
       "type"
      ]
     },
     "execution_count": 15,
     "metadata": {},
     "output_type": "execute_result"
    }
   ],
   "source": [
    "type"
   ]
  },
  {
   "cell_type": "code",
   "execution_count": 17,
   "id": "5ec5d48d",
   "metadata": {},
   "outputs": [
    {
     "data": {
      "text/plain": [
       "int"
      ]
     },
     "execution_count": 17,
     "metadata": {},
     "output_type": "execute_result"
    }
   ],
   "source": [
    "type(a)\n"
   ]
  },
  {
   "cell_type": "code",
   "execution_count": 19,
   "id": "edc6f6ed",
   "metadata": {},
   "outputs": [],
   "source": [
    "a=\"ARIMA\""
   ]
  },
  {
   "cell_type": "code",
   "execution_count": 21,
   "id": "bc291774",
   "metadata": {},
   "outputs": [
    {
     "name": "stdout",
     "output_type": "stream",
     "text": [
      "ARIMA\n"
     ]
    }
   ],
   "source": [
    "print(a)"
   ]
  },
  {
   "cell_type": "code",
   "execution_count": 23,
   "id": "b3d086ea",
   "metadata": {},
   "outputs": [
    {
     "data": {
      "text/plain": [
       "type"
      ]
     },
     "execution_count": 23,
     "metadata": {},
     "output_type": "execute_result"
    }
   ],
   "source": [
    "type"
   ]
  },
  {
   "cell_type": "code",
   "execution_count": 25,
   "id": "99c41a31",
   "metadata": {},
   "outputs": [
    {
     "data": {
      "text/plain": [
       "str"
      ]
     },
     "execution_count": 25,
     "metadata": {},
     "output_type": "execute_result"
    }
   ],
   "source": [
    "type(a)"
   ]
  },
  {
   "cell_type": "code",
   "execution_count": 31,
   "id": "ffc4674b",
   "metadata": {},
   "outputs": [
    {
     "name": "stdout",
     "output_type": "stream",
     "text": [
      "Nikesh ADK \n",
      " 19 \n",
      " 230326 \n",
      "\n"
     ]
    }
   ],
   "source": [
    "name=\"Nikesh ADK\"\n",
    "age=19\n",
    "roll_no=230326\n",
    "print(name, \"\\n\", age, \"\\n\", roll_no, \"\\n\")"
   ]
  },
  {
   "cell_type": "code",
   "execution_count": 32,
   "id": "edae4843",
   "metadata": {},
   "outputs": [
    {
     "name": "stdout",
     "output_type": "stream",
     "text": [
      "name:Nikesh ADK, age: 19, roll_no: 230326\n"
     ]
    }
   ],
   "source": [
    "print(f\"name:{name}, age: {age}, roll_no: {roll_no}\")"
   ]
  },
  {
   "cell_type": "code",
   "execution_count": 34,
   "id": "27e7fcee",
   "metadata": {},
   "outputs": [
    {
     "ename": "SyntaxError",
     "evalue": "invalid syntax. Maybe you meant '==' or ':=' instead of '='? (151242210.py, line 1)",
     "output_type": "error",
     "traceback": [
      "  \u001b[36mCell\u001b[39m\u001b[36m \u001b[39m\u001b[32mIn[34]\u001b[39m\u001b[32m, line 1\u001b[39m\n\u001b[31m    \u001b[39m\u001b[31ma=10,b=20,c=30\u001b[39m\n    ^\n\u001b[31mSyntaxError\u001b[39m\u001b[31m:\u001b[39m invalid syntax. Maybe you meant '==' or ':=' instead of '='?\n"
     ]
    }
   ],
   "source": [
    "a=10,b=20,c=30\n",
    "print(a, b, c)"
   ]
  },
  {
   "cell_type": "code",
   "execution_count": 36,
   "id": "f1ec3e1f",
   "metadata": {},
   "outputs": [
    {
     "name": "stdout",
     "output_type": "stream",
     "text": [
      "10 20 30\n"
     ]
    }
   ],
   "source": [
    "a,b,c=10,20,30\n",
    "print(a, b, c)"
   ]
  },
  {
   "cell_type": "code",
   "execution_count": 38,
   "id": "62a33873",
   "metadata": {},
   "outputs": [
    {
     "name": "stdout",
     "output_type": "stream",
     "text": [
      "(4+5j)\n"
     ]
    }
   ],
   "source": [
    "x=2+3j\n",
    "y=2+2j\n",
    "print(x+y)"
   ]
  },
  {
   "cell_type": "code",
   "execution_count": 41,
   "id": "a2f2709b",
   "metadata": {},
   "outputs": [
    {
     "name": "stdout",
     "output_type": "stream",
     "text": [
      "2.0\n"
     ]
    }
   ],
   "source": [
    "print(x.real)"
   ]
  },
  {
   "cell_type": "code",
   "execution_count": 44,
   "id": "2f8d3212",
   "metadata": {},
   "outputs": [
    {
     "name": "stdout",
     "output_type": "stream",
     "text": [
      "3.0\n"
     ]
    }
   ],
   "source": [
    "print(x.imag)"
   ]
  },
  {
   "cell_type": "code",
   "execution_count": 46,
   "id": "522efd65",
   "metadata": {},
   "outputs": [
    {
     "name": "stdout",
     "output_type": "stream",
     "text": [
      "<built-in method conjugate of complex object at 0x0000010DD065D9F0>\n"
     ]
    }
   ],
   "source": [
    "print(x.conjugate)"
   ]
  },
  {
   "cell_type": "code",
   "execution_count": 48,
   "id": "d0eddb7c",
   "metadata": {},
   "outputs": [
    {
     "name": "stdout",
     "output_type": "stream",
     "text": [
      "(2-3j)\n"
     ]
    }
   ],
   "source": [
    "print(x.conjugate())"
   ]
  },
  {
   "cell_type": "code",
   "execution_count": 52,
   "id": "8df0dcae",
   "metadata": {},
   "outputs": [
    {
     "name": "stdout",
     "output_type": "stream",
     "text": [
      "5 is less than 10\n"
     ]
    }
   ],
   "source": [
    "if 5>=10:\n",
    "    print(\"5 is greater than or equal to 10\")\n",
    "else:\n",
    "    print(\"5 is less than 10\")"
   ]
  },
  {
   "cell_type": "code",
   "execution_count": null,
   "id": "5aaff9d2",
   "metadata": {},
   "outputs": [],
   "source": [
    "a=input()\n",
    "print(a)"
   ]
  },
  {
   "cell_type": "code",
   "execution_count": 4,
   "id": "01895da8",
   "metadata": {},
   "outputs": [
    {
     "name": "stdout",
     "output_type": "stream",
     "text": [
      " eligible\n"
     ]
    }
   ],
   "source": [
    "age=int(input(\"please enter your age\"))\n",
    "if age>=18:\n",
    "    print(\" eligible\")"
   ]
  },
  {
   "cell_type": "code",
   "execution_count": 6,
   "id": "f2814759",
   "metadata": {},
   "outputs": [
    {
     "name": "stdout",
     "output_type": "stream",
     "text": [
      "ARIMA\n"
     ]
    }
   ],
   "source": [
    "name=\"ARIMA\"#string is immutable i.e. cannot be changed\n",
    "print(name)\n",
    "# name[0]=\"i\" ##ERROR"
   ]
  },
  {
   "cell_type": "code",
   "execution_count": 8,
   "id": "2ea35df2",
   "metadata": {},
   "outputs": [
    {
     "name": "stdout",
     "output_type": "stream",
     "text": [
      "RIM\n"
     ]
    }
   ],
   "source": [
    "print(name[1:4])"
   ]
  },
  {
   "cell_type": "code",
   "execution_count": 15,
   "id": "cab5cca7",
   "metadata": {},
   "outputs": [
    {
     "name": "stdout",
     "output_type": "stream",
     "text": [
      "\n"
     ]
    }
   ],
   "source": [
    "print(name[-1:-5])"
   ]
  },
  {
   "cell_type": "code",
   "execution_count": 16,
   "id": "b22e9f5a",
   "metadata": {},
   "outputs": [
    {
     "name": "stdout",
     "output_type": "stream",
     "text": [
      "I'm  learning Python\n"
     ]
    }
   ],
   "source": [
    "a=\"I'm  learning Python\"\n",
    "print(a)"
   ]
  },
  {
   "cell_type": "code",
   "execution_count": 17,
   "id": "9db17647",
   "metadata": {},
   "outputs": [
    {
     "name": "stdout",
     "output_type": "stream",
     "text": [
      "Im \n"
     ]
    }
   ],
   "source": [
    "print(a[0:5:2])# a[start:stop:step]"
   ]
  },
  {
   "cell_type": "code",
   "execution_count": 19,
   "id": "4e5bfa7e",
   "metadata": {},
   "outputs": [
    {
     "name": "stdout",
     "output_type": "stream",
     "text": [
      "nohtyP gninrael  m'I\n"
     ]
    }
   ],
   "source": [
    "print(a[::-1])# reverse the string"
   ]
  },
  {
   "cell_type": "code",
   "execution_count": 21,
   "id": "20cc9ec9",
   "metadata": {},
   "outputs": [
    {
     "name": "stdout",
     "output_type": "stream",
     "text": [
      "I'M  LEARNING PYTHON\n",
      "i'm  learning python\n",
      "I'm  learning Python\n",
      "I'M  Learning Python\n",
      "I'm  learning C++\n",
      "[\"I'm\", 'learning', 'Python']\n",
      "[\"I'm\", '', 'learning', 'Python']\n"
     ]
    }
   ],
   "source": [
    "print(a.upper())\n",
    "print( a.lower())\n",
    "print(a.strip())# removes leading and trailing spaces\n",
    "print(a.title())# converts first letter of each word to uppercase\n",
    "print(a.replace(\"Python\", \"C++\"))# replaces Python with C++\n",
    "print(a.split())# splits the string into a list of words\n",
    "print(a.split(\" \",-1   ))#splits the string into a list of words using space as a delimiter"
   ]
  },
  {
   "cell_type": "code",
   "execution_count": 23,
   "id": "3e010f3a",
   "metadata": {},
   "outputs": [
    {
     "name": "stdout",
     "output_type": "stream",
     "text": [
      "I'm  learning Python\n"
     ]
    }
   ],
   "source": [
    "print(a)"
   ]
  },
  {
   "cell_type": "code",
   "execution_count": null,
   "id": "193739ea",
   "metadata": {},
   "outputs": [
    {
     "name": "stdout",
     "output_type": "stream",
     "text": [
      "NIKESH\n"
     ]
    }
   ],
   "source": [
    "name=name.replace(\"ARIMA\", \"NIKESH\")\n",
    "print(name)"
   ]
  },
  {
   "cell_type": "code",
   "execution_count": 2,
   "id": "851bd703",
   "metadata": {},
   "outputs": [
    {
     "name": "stdout",
     "output_type": "stream",
     "text": [
      "ARIMA\n"
     ]
    }
   ],
   "source": [
    "x=4\n",
    "x=\"ARIMA\"\n",
    "print(x)"
   ]
  },
  {
   "cell_type": "code",
   "execution_count": 4,
   "id": "c5064f46",
   "metadata": {},
   "outputs": [
    {
     "name": "stdout",
     "output_type": "stream",
     "text": [
      "3 3 3.0\n"
     ]
    }
   ],
   "source": [
    "x=str(3) #x woll be '3'\n",
    "y=int(3) #y will be 3\n",
    "z=float(3) #z will be 3.0\n",
    "print(x, y, z)"
   ]
  },
  {
   "cell_type": "code",
   "execution_count": 6,
   "id": "1b2f460b",
   "metadata": {},
   "outputs": [
    {
     "name": "stdout",
     "output_type": "stream",
     "text": [
      "<class 'int'>\n",
      "<class 'str'>\n"
     ]
    }
   ],
   "source": [
    "x=5\n",
    "y=\"Arima\"\n",
    "print(type(x))\n",
    "print(type(y))"
   ]
  },
  {
   "cell_type": "code",
   "execution_count": 8,
   "id": "1243335a",
   "metadata": {},
   "outputs": [
    {
     "name": "stdout",
     "output_type": "stream",
     "text": [
      "ORANGE\n",
      "ORANGE\n",
      "ORANGE\n"
     ]
    }
   ],
   "source": [
    "# one value to multiple variable \n",
    "x=y=z=\"ORANGE\"\n",
    "print(x)\n",
    "print(y)\n",
    "print(z)"
   ]
  },
  {
   "cell_type": "code",
   "execution_count": 10,
   "id": "99f6e715",
   "metadata": {},
   "outputs": [
    {
     "name": "stdout",
     "output_type": "stream",
     "text": [
      "apple\n",
      "banana\n",
      "cherry\n"
     ]
    }
   ],
   "source": [
    "fruits=[\"apple\",\"banana\",\"cherry\"]\n",
    "x,y,z=fruits\n",
    "print(x)\n",
    "print(y)\n",
    "print(z)"
   ]
  },
  {
   "cell_type": "code",
   "execution_count": 15,
   "id": "b795e45b",
   "metadata": {},
   "outputs": [
    {
     "name": "stdout",
     "output_type": "stream",
     "text": [
      "python is awesome\n"
     ]
    }
   ],
   "source": [
    "x=\"python \"\n",
    "y=\"is \"\n",
    "z=\"awesome\"\n",
    "print(x + y + z)"
   ]
  },
  {
   "cell_type": "code",
   "execution_count": 17,
   "id": "3ba55320",
   "metadata": {},
   "outputs": [
    {
     "name": "stdout",
     "output_type": "stream",
     "text": [
      "python  is  awesome\n"
     ]
    }
   ],
   "source": [
    "x=\"python \"\n",
    "y=\"is \"\n",
    "z=\"awesome\"\n",
    "print(x, y, z)"
   ]
  },
  {
   "cell_type": "code",
   "execution_count": 19,
   "id": "e5257748",
   "metadata": {},
   "outputs": [
    {
     "name": "stdout",
     "output_type": "stream",
     "text": [
      "Python is  AWESOME\n"
     ]
    }
   ],
   "source": [
    "x=\"AWESOME\"\n",
    "def myfunc():\n",
    "    print(\"Python is  \" + x)\n",
    "myfunc()"
   ]
  },
  {
   "cell_type": "code",
   "execution_count": 23,
   "id": "228b3dae",
   "metadata": {},
   "outputs": [
    {
     "name": "stdout",
     "output_type": "stream",
     "text": [
      "Python is fantastic\n",
      "Python is awesome\n"
     ]
    }
   ],
   "source": [
    "x = \"awesome\"\n",
    "\n",
    "def myfunc():\n",
    "  x = \"fantastic\"\n",
    "  print(\"Python is \" + x)\n",
    "\n",
    "myfunc()\n",
    "\n",
    "print(\"Python is \" + x)\n",
    "    "
   ]
  },
  {
   "cell_type": "code",
   "execution_count": 24,
   "id": "dfa8df9e",
   "metadata": {},
   "outputs": [
    {
     "name": "stdout",
     "output_type": "stream",
     "text": [
      "Python is Fantastic\n"
     ]
    }
   ],
   "source": [
    "def myfunc():\n",
    "    global x\n",
    "    x= \"Fantastic\"\n",
    "myfunc()\n",
    "print(\"Python is \" + x)"
   ]
  },
  {
   "cell_type": "code",
   "execution_count": 25,
   "id": "98ea7330",
   "metadata": {},
   "outputs": [
    {
     "name": "stdout",
     "output_type": "stream",
     "text": [
      "Python is fantastic\n"
     ]
    }
   ],
   "source": [
    "x=\"AWESOME\"\n",
    "\n",
    "def myfunc():\n",
    "    global x\n",
    "    x=\"fantastic\"\n",
    "myfunc()\n",
    "print(\"Python is \" + x)"
   ]
  },
  {
   "cell_type": "code",
   "execution_count": 2,
   "id": "9d3ac3bd",
   "metadata": {},
   "outputs": [
    {
     "name": "stdout",
     "output_type": "stream",
     "text": [
      "['apple', 'banana', 'orange', 'cherry']\n",
      "cherry\n",
      "['apple', 'banana', 'orange']\n",
      "['cherry', 'orange', 'banana', 'apple']\n"
     ]
    }
   ],
   "source": [
    "\"\"\"\n",
    "#LIST, SET,TUPLES\n",
    "\n",
    "list=[]ordered and changeable collection of items\n",
    "list1=[1,2,3,4,5]   \n",
    "list2=[\"apple\", \"banana\", \"cherry\"]\n",
    "list3=[1, \"apple\", 2.5, True]  # mixed data types\n",
    "\n",
    "\n",
    "\"\"\"\n",
    "\n",
    "fruits=[\"apple\",\"banana\",\"orange\",\"cherry\"]\n",
    "print(fruits)\n",
    "print(fruits[3])\n",
    "print(fruits[0:3])\n",
    "print(fruits[::-1])\n"
   ]
  },
  {
   "cell_type": "code",
   "execution_count": 4,
   "id": "b61bfd66",
   "metadata": {},
   "outputs": [
    {
     "name": "stdout",
     "output_type": "stream",
     "text": [
      "['__add__', '__class__', '__class_getitem__', '__contains__', '__delattr__', '__delitem__', '__dir__', '__doc__', '__eq__', '__format__', '__ge__', '__getattribute__', '__getitem__', '__getstate__', '__gt__', '__hash__', '__iadd__', '__imul__', '__init__', '__init_subclass__', '__iter__', '__le__', '__len__', '__lt__', '__mul__', '__ne__', '__new__', '__reduce__', '__reduce_ex__', '__repr__', '__reversed__', '__rmul__', '__setattr__', '__setitem__', '__sizeof__', '__str__', '__subclasshook__', 'append', 'clear', 'copy', 'count', 'extend', 'index', 'insert', 'pop', 'remove', 'reverse', 'sort']\n"
     ]
    }
   ],
   "source": [
    "#LIST METHODS\n",
    "print(dir(fruits)) # all the attributes and method that are available for the list object\n"
   ]
  },
  {
   "cell_type": "code",
   "execution_count": 11,
   "id": "4734df5a",
   "metadata": {},
   "outputs": [
    {
     "name": "stdout",
     "output_type": "stream",
     "text": [
      "5\n",
      "GOOD\n",
      "Mango\n"
     ]
    },
    {
     "data": {
      "text/plain": [
       "False"
      ]
     },
     "execution_count": 11,
     "metadata": {},
     "output_type": "execute_result"
    }
   ],
   "source": [
    "print(len(fruits))\n",
    "print(fruits[0])\n",
    "fruits[0]=\"Mango\"\n",
    "print(fruits[0])\n",
    "\"C++\" in fruits"
   ]
  },
  {
   "cell_type": "code",
   "execution_count": 9,
   "id": "21e9db91",
   "metadata": {},
   "outputs": [],
   "source": [
    "fruits.append(\"apple\")\n",
    "fruits.remove(\"orange\")\n",
    "fruits.pop(1)\n",
    "fruits.insert(1,\"pineapple\")"
   ]
  },
  {
   "cell_type": "code",
   "execution_count": 12,
   "id": "0a9dbfd4",
   "metadata": {},
   "outputs": [
    {
     "name": "stdout",
     "output_type": "stream",
     "text": [
      "['Mango', 'pineapple', 'cherry', 'apple', 'apple']\n"
     ]
    }
   ],
   "source": [
    "print(fruits)"
   ]
  },
  {
   "cell_type": "code",
   "execution_count": 15,
   "id": "216b0e2e",
   "metadata": {},
   "outputs": [],
   "source": [
    "fruits.sort()\n",
    "fruits.reverse()"
   ]
  },
  {
   "cell_type": "code",
   "execution_count": 17,
   "id": "3f4de559",
   "metadata": {},
   "outputs": [
    {
     "name": "stdout",
     "output_type": "stream",
     "text": [
      "['Mango', 'apple', 'apple', 'cherry', 'pineapple']\n"
     ]
    }
   ],
   "source": [
    "fruits.sort()\n",
    "print(fruits)"
   ]
  },
  {
   "cell_type": "code",
   "execution_count": 19,
   "id": "3715b187",
   "metadata": {},
   "outputs": [
    {
     "name": "stdout",
     "output_type": "stream",
     "text": [
      "['Mango', 'apple', 'apple', 'cherry', 'pineapple']\n"
     ]
    }
   ],
   "source": [
    "fruits.reverse()\n",
    "print(fruits)"
   ]
  },
  {
   "cell_type": "code",
   "execution_count": 21,
   "id": "6dbef8b9",
   "metadata": {},
   "outputs": [
    {
     "name": "stdout",
     "output_type": "stream",
     "text": [
      "[]\n"
     ]
    }
   ],
   "source": [
    "fruits.clear()\n",
    "print(fruits)"
   ]
  },
  {
   "cell_type": "code",
   "execution_count": 25,
   "id": "5cf23e42",
   "metadata": {},
   "outputs": [
    {
     "name": "stdout",
     "output_type": "stream",
     "text": [
      "True\n",
      "True\n",
      "False\n",
      "True\n",
      "4\n"
     ]
    }
   ],
   "source": [
    "# Define a list with integers and a nested list\n",
    "list1 = [1, 2, 3, [4, 5]]\n",
    "\n",
    "# Check if 1 is an element of list1 (True)\n",
    "print(1 in list1)\n",
    "\n",
    "# Check if [4, 5] (the whole sublist) is an element of list1 (True)\n",
    "print([4, 5] in list1)\n",
    "\n",
    "# Check if 4 is an element of list1 (False, because 4 is inside the nested list)\n",
    "print(4 in list1)\n",
    "\n",
    "# Check if 4 is in the nested list at index 3 (True)\n",
    "print(4 in list1[3])\n",
    "\n",
    "# Print the first element of the nested list ([4, 5]), which is 4\n",
    "print(list1[3][0])"
   ]
  },
  {
   "cell_type": "code",
   "execution_count": 27,
   "id": "c1d9d819",
   "metadata": {},
   "outputs": [
    {
     "name": "stdout",
     "output_type": "stream",
     "text": [
      "[4, 5, [6, 7, 8], 9]\n",
      "[6, 7, 8]\n",
      "7\n"
     ]
    }
   ],
   "source": [
    "#list inside a list\n",
    "list=[1,2,3,[4,5,[6,7,8],9]]\n",
    "print(list[3]) # printing the nested list\n",
    "print(list[3][2]) #printing the nested list\n",
    "print(list[3][2][1])#print 7"
   ]
  },
  {
   "cell_type": "code",
   "execution_count": 29,
   "id": "7c018843",
   "metadata": {},
   "outputs": [
    {
     "name": "stdout",
     "output_type": "stream",
     "text": [
      "[1, 4, 9, 16, 25]\n"
     ]
    }
   ],
   "source": [
    "square=[x**2 for x in range(1,6)]\n",
    "print(square)"
   ]
  },
  {
   "cell_type": "code",
   "execution_count": 31,
   "id": "d7de536d",
   "metadata": {},
   "outputs": [
    {
     "name": "stdout",
     "output_type": "stream",
     "text": [
      "['APPLE', 'BANANA', 'CHERRY']\n"
     ]
    }
   ],
   "source": [
    "words=['apple','banana','cherry']\n",
    "uppercased=[word.upper() for word in words]\n",
    "print(uppercased)"
   ]
  },
  {
   "cell_type": "code",
   "execution_count": 38,
   "id": "da7170ee",
   "metadata": {},
   "outputs": [
    {
     "name": "stdout",
     "output_type": "stream",
     "text": [
      "{'coconut', 'banana', 'apple', 'orange'}\n",
      "['__and__', '__class__', '__class_getitem__', '__contains__', '__delattr__', '__dir__', '__doc__', '__eq__', '__format__', '__ge__', '__getattribute__', '__getstate__', '__gt__', '__hash__', '__iand__', '__init__', '__init_subclass__', '__ior__', '__isub__', '__iter__', '__ixor__', '__le__', '__len__', '__lt__', '__ne__', '__new__', '__or__', '__rand__', '__reduce__', '__reduce_ex__', '__repr__', '__ror__', '__rsub__', '__rxor__', '__setattr__', '__sizeof__', '__str__', '__sub__', '__subclasshook__', '__xor__', 'add', 'clear', 'copy', 'difference', 'difference_update', 'discard', 'intersection', 'intersection_update', 'isdisjoint', 'issubset', 'issuperset', 'pop', 'remove', 'symmetric_difference', 'symmetric_difference_update', 'union', 'update']\n"
     ]
    }
   ],
   "source": [
    "fruits={ \"apple\",\"orange\",\"banana\",\"coconut\",\"coconut\"}\n",
    "print(fruits)\n",
    "print(dir(fruits))"
   ]
  },
  {
   "cell_type": "code",
   "execution_count": 40,
   "id": "fd93e07f",
   "metadata": {},
   "outputs": [
    {
     "name": "stdout",
     "output_type": "stream",
     "text": [
      "{1, 2, 3, 4}\n",
      "{1, 2, 3, 4, 5}\n",
      "True\n",
      "{1, 3, 4, 5}\n"
     ]
    }
   ],
   "source": [
    "# Creating a set\n",
    "my_set = {1, 2, 3, 2, 4}\n",
    "print(my_set)  # Output: {1, 2, 3, 4} (duplicates are removed)\n",
    "\n",
    "# Adding an element\n",
    "my_set.add(5)\n",
    "print(my_set)  # Output: {1, 2, 3, 4, 5}\n",
    "\n",
    "# Checking membership\n",
    "print(3 in my_set)  # Output: True\n",
    "\n",
    "# Removing an element\n",
    "my_set.remove(2)\n",
    "print(my_set)  # Output: {1, 3, 4, 5}"
   ]
  },
  {
   "cell_type": "code",
   "execution_count": 44,
   "id": "b4dd606f",
   "metadata": {},
   "outputs": [
    {
     "name": "stdout",
     "output_type": "stream",
     "text": [
      "set()\n"
     ]
    }
   ],
   "source": [
    "fruits.remove(\"banana\")\n",
    "fruits.pop()\n",
    "print(fruits)"
   ]
  },
  {
   "cell_type": "code",
   "execution_count": 48,
   "id": "f316b4c5",
   "metadata": {},
   "outputs": [],
   "source": [
    "vehicle={\"bus\",\"bike\",\"jeep\" }\n",
    "vehicle.remove(\"bus\")"
   ]
  },
  {
   "cell_type": "code",
   "execution_count": 50,
   "id": "58774416",
   "metadata": {},
   "outputs": [],
   "source": [
    "vehicle.discard(\"bus\")# it will remove bus if it is presented else dont throw error"
   ]
  },
  {
   "cell_type": "code",
   "execution_count": 52,
   "id": "a72cb66b",
   "metadata": {},
   "outputs": [
    {
     "name": "stdout",
     "output_type": "stream",
     "text": [
      "('apple', 'banana', 'orange', 'guava', 'mango')\n"
     ]
    }
   ],
   "source": [
    "#TUPLES() ORDERED AND UNCHANGABLE.\n",
    "#DUPLICATE  OK,FASTER\n",
    "fruits=(\"apple\",\"banana\",\"orange\",\"guava\",\"mango\")\n",
    "print(fruits)"
   ]
  },
  {
   "cell_type": "code",
   "execution_count": 54,
   "id": "7127412a",
   "metadata": {},
   "outputs": [
    {
     "name": "stdout",
     "output_type": "stream",
     "text": [
      "['__add__', '__class__', '__class_getitem__', '__contains__', '__delattr__', '__dir__', '__doc__', '__eq__', '__format__', '__ge__', '__getattribute__', '__getitem__', '__getnewargs__', '__getstate__', '__gt__', '__hash__', '__init__', '__init_subclass__', '__iter__', '__le__', '__len__', '__lt__', '__mul__', '__ne__', '__new__', '__reduce__', '__reduce_ex__', '__repr__', '__rmul__', '__setattr__', '__sizeof__', '__str__', '__subclasshook__', 'count', 'index']\n"
     ]
    }
   ],
   "source": [
    "print(dir(fruits))"
   ]
  },
  {
   "cell_type": "code",
   "execution_count": 56,
   "id": "34b8e9fe",
   "metadata": {},
   "outputs": [
    {
     "name": "stdout",
     "output_type": "stream",
     "text": [
      "1\n",
      "1 apple\n"
     ]
    }
   ],
   "source": [
    "# Creating a tuple\n",
    "my_tuple = (1, 2, 3, \"apple\")\n",
    "\n",
    "# Accessing elements by index\n",
    "print(my_tuple[0])    # Output: 1\n",
    "\n",
    "# Tuples can contain different data types\n",
    "another_tuple = (10, \"hello\", 3.14)\n",
    "\n",
    "# Tuples are immutable (this will cause an error)\n",
    "# my_tuple[1] = 5  # TypeError\n",
    "\n",
    "# Tuple unpacking\n",
    "a, b, c, d = my_tuple\n",
    "print(a, d)  # Output: 1 apple"
   ]
  },
  {
   "cell_type": "code",
   "execution_count": 59,
   "id": "4dcaaeb7",
   "metadata": {},
   "outputs": [
    {
     "name": "stdout",
     "output_type": "stream",
     "text": [
      "('1', '2', '3', '4', '5')\n"
     ]
    }
   ],
   "source": [
    "newtuple = (\"1\", \"2\", \"3\", \"4\")\n",
    "y = (\"5\",)  # y must be a tuple, so add a comma\n",
    "newtuple += y  # correct syntax for tuple concatenation\n",
    "print(newtuple)\n"
   ]
  },
  {
   "cell_type": "code",
   "execution_count": 68,
   "id": "9c19582d",
   "metadata": {},
   "outputs": [
    {
     "name": "stdout",
     "output_type": "stream",
     "text": [
      "apple\n",
      "banana\n",
      "cherry\n",
      "['banana']\n",
      "apple\n"
     ]
    }
   ],
   "source": [
    "fruits=('apple','banana','cherry')\n",
    "(green,yellow,red)=fruits\n",
    "print(green)\n",
    "print(yellow)\n",
    "print(red)\n",
    "(green,*yellow,red)=fruits\n",
    "print(yellow)\n",
    "print(green)"
   ]
  },
  {
   "cell_type": "code",
   "execution_count": 70,
   "id": "9833c075",
   "metadata": {},
   "outputs": [
    {
     "name": "stdout",
     "output_type": "stream",
     "text": [
      "(3, 4)\n",
      "(6, 7)\n",
      "6\n"
     ]
    }
   ],
   "source": [
    "#NESTED TUPLES\n",
    "# Creating a nested tuple\n",
    "nested_tuple = (1, 2, (3, 4), (5, (6, 7)))\n",
    "\n",
    "# Accessing elements\n",
    "print(nested_tuple[2])      # Output: (3, 4)\n",
    "print(nested_tuple[3][1])   # Output: (6, 7)\n",
    "print(nested_tuple[3][1][0]) # Output: 6"
   ]
  },
  {
   "cell_type": "code",
   "execution_count": 73,
   "id": "3198618d",
   "metadata": {},
   "outputs": [
    {
     "name": "stdout",
     "output_type": "stream",
     "text": [
      "You have apples!\n"
     ]
    }
   ],
   "source": [
    "fruits = [\"banana\", \"orange\", \"apple\", \"grape\"]\n",
    "\n",
    "if \"apple\" in fruits:\n",
    "    print(\"You have apples!\")\n",
    "else:\n",
    "    print(\"No apples found.\")"
   ]
  },
  {
   "cell_type": "code",
   "execution_count": 75,
   "id": "399a08bc",
   "metadata": {},
   "outputs": [
    {
     "name": "stdout",
     "output_type": "stream",
     "text": [
      "banana\n",
      "orange\n",
      "apple\n",
      "grape\n"
     ]
    }
   ],
   "source": [
    "i=0;\n",
    "while i<len(fruits):\n",
    "    print(fruits[i])\n",
    "    i=i+1"
   ]
  },
  {
   "cell_type": "code",
   "execution_count": 77,
   "id": "d51d85c6",
   "metadata": {},
   "outputs": [
    {
     "name": "stdout",
     "output_type": "stream",
     "text": [
      "['banana', 'orange', 'apple', 'grape', 'banana', 'orange', 'apple', 'grape']\n"
     ]
    }
   ],
   "source": [
    "print(fruits*2)"
   ]
  },
  {
   "cell_type": "code",
   "execution_count": 92,
   "id": "273c1152",
   "metadata": {},
   "outputs": [
    {
     "name": "stdout",
     "output_type": "stream",
     "text": [
      "20\n",
      "20\n",
      "{'name': 'Arima', 'age': 30, 'city': 'London'}\n",
      "Arima\n",
      "London\n",
      "{'name': 'Arima', 'age': 30, 'city': 'London', 'email': 'arima@example.com'}\n",
      "{'name': 'Arima', 'city': 'London', 'email': 'arima@example.com'}\n"
     ]
    }
   ],
   "source": [
    "student = {\n",
    "    1: \"first\",\n",
    "    \"name\": \"Arima\",\n",
    "    \"age\": 20,\n",
    "    \"courses\": [\"Maths\", \"Science\"]\n",
    "}\n",
    "\n",
    "# Accessing values using key\n",
    "print(student[\"age\"])          # Output: 20\n",
    "\n",
    "# Accessing values using get() method\n",
    "print(student.get(\"age\"))      # Output: 20\n",
    "\n",
    "# Creating a new dictionary using dict()\n",
    "student = dict(name=\"Arima\", age=30, city=\"London\")\n",
    "print(student)\n",
    "\n",
    "# Accessing values\n",
    "print(student[\"name\"])         # Output: Arima\n",
    "print(student.get(\"city\"))     # Output: London\n",
    "\n",
    "# Adding a new key-value pair\n",
    "student[\"email\"] = \"arima@example.com\"\n",
    "print(student)\n",
    "\n",
    "# Removing a key-value pair\n",
    "student.pop(\"age\")\n",
    "print(student)"
   ]
  },
  {
   "cell_type": "code",
   "execution_count": 94,
   "id": "39cf1de4",
   "metadata": {},
   "outputs": [
    {
     "name": "stdout",
     "output_type": "stream",
     "text": [
      "{'name': 'Arima', 'city': 'London', 'email': 'arima@example.com', 'job': 'Engineer', 'age': 19}\n"
     ]
    }
   ],
   "source": [
    "student[\"job\"]=\"Engineer\"\n",
    "student[\"age\"]=19\n",
    "print(student)"
   ]
  }
 ],
 "metadata": {
  "kernelspec": {
   "display_name": "Python 3",
   "language": "python",
   "name": "python3"
  },
  "language_info": {
   "codemirror_mode": {
    "name": "ipython",
    "version": 3
   },
   "file_extension": ".py",
   "mimetype": "text/x-python",
   "name": "python",
   "nbconvert_exporter": "python",
   "pygments_lexer": "ipython3",
   "version": "3.13.1"
  }
 },
 "nbformat": 4,
 "nbformat_minor": 5
}
